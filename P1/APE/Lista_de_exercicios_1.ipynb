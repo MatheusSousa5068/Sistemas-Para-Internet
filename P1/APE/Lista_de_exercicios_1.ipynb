{
  "nbformat": 4,
  "nbformat_minor": 0,
  "metadata": {
    "colab": {
      "name": "Lista de exercicios 1.ipynb",
      "provenance": [],
      "authorship_tag": "ABX9TyNX+qRagJYFzsimamSZfYt4"
    },
    "kernelspec": {
      "name": "python3",
      "display_name": "Python 3"
    },
    "language_info": {
      "name": "python"
    }
  },
  "cells": [
    {
      "cell_type": "markdown",
      "source": [
        "Faça um programa que exiba na tela do computador a mensagem “Bem-vindo ao\n",
        "mundo da programação!"
      ],
      "metadata": {
        "id": "WaymXTmZtJHU"
      }
    },
    {
      "cell_type": "code",
      "source": [
        "print(\"Bem-vindo ao mundo da programação!\")"
      ],
      "metadata": {
        "id": "_ppXn549tKu6"
      },
      "execution_count": null,
      "outputs": []
    },
    {
      "cell_type": "markdown",
      "source": [
        "Escreva um programa que leia um número inteiro e exiba o dobro dele."
      ],
      "metadata": {
        "id": "Wl_MaQP8tUVs"
      }
    },
    {
      "cell_type": "code",
      "source": [
        "num = int(input('Diga um número inteiro: '))\n",
        "dobro = num * 2\n",
        "\n",
        "print(f'O dobro de {num} é {dobro}')"
      ],
      "metadata": {
        "id": "3fK52kBUtW7i"
      },
      "execution_count": null,
      "outputs": []
    },
    {
      "cell_type": "markdown",
      "source": [
        "Faça um programa que leia dois números reais, calcule e exiba a soma deles."
      ],
      "metadata": {
        "id": "j-1j5Y3Pt9Hz"
      }
    },
    {
      "cell_type": "code",
      "source": [
        "num1 = float(input('Diga um número real: '))\n",
        "num2 = float(input('Diga outro valor real: '))\n",
        "\n",
        "soma = num1 + num2\n",
        "\n",
        "print(f'A soma desses valores é {soma}')"
      ],
      "metadata": {
        "id": "ZjqkVmfht-Wp"
      },
      "execution_count": null,
      "outputs": []
    },
    {
      "cell_type": "markdown",
      "source": [
        "Escreva um programa para calcular a área de um triângulo, dados os valores de\n",
        "base e altura."
      ],
      "metadata": {
        "id": "xHSPFIK4uPiy"
      }
    },
    {
      "cell_type": "code",
      "source": [
        "base = float(input('Diga o valor da base: '))\n",
        "altura = float(input('Diga o valor da altura: '))\n",
        "\n",
        "area = (base * altura) / 2\n",
        "\n",
        "print(f'A área do triângulo é {area}')"
      ],
      "metadata": {
        "id": "1qqd7cBPuQy6"
      },
      "execution_count": null,
      "outputs": []
    },
    {
      "cell_type": "markdown",
      "source": [
        "Escreva um programa para ler o nome e o sobrenome de uma pessoa e escrevê-\n",
        "los na seguinte forma: sobrenome seguido por uma vírgula e pelo nomez"
      ],
      "metadata": {
        "id": "7shgajnEumqL"
      }
    },
    {
      "cell_type": "code",
      "source": [
        "nome, sobrenome = input('Informe seu nome: ').split(\",\")\n",
        "\n",
        "novoNome = nome.strip('\"')\n",
        "novoSobrenome = sobrenome.strip('\"')\n",
        "\n",
        "print(f'{novoSobrenome}, {novoNome}')"
      ],
      "metadata": {
        "colab": {
          "base_uri": "https://localhost:8080/"
        },
        "id": "fKgi4Bdruzv5",
        "outputId": "4bef406b-e997-4683-adbe-c59a8bf5069a"
      },
      "execution_count": 8,
      "outputs": [
        {
          "output_type": "stream",
          "name": "stdout",
          "text": [
            "Informe seu nome: \"matheus\",\"sousa\"\n",
            "sousa, matheus\n"
          ]
        }
      ]
    },
    {
      "cell_type": "markdown",
      "source": [
        "Faça um programa que efetue a apresentação do valor da conversão em real\n",
        "de um valor lido em dólar (US$). O algoritmo deverá solicitar o valor da cotação do\n",
        "dólar e também a quantidade de dólares disponíveis com o usuário."
      ],
      "metadata": {
        "id": "aa8uRbmXw5cQ"
      }
    },
    {
      "cell_type": "code",
      "source": [
        "cotacao = float(input('Qual a cotação atual do dólar: '))\n",
        "dolares = float(input('Quantos dólares você tem: '))\n",
        "\n",
        "valorReal = cotacao * dolares\n",
        "\n",
        "print(f'Em reais, você tem R${valorReal}')"
      ],
      "metadata": {
        "colab": {
          "base_uri": "https://localhost:8080/"
        },
        "id": "4mPDLxQ3w7Pv",
        "outputId": "1ad7d61f-4ab5-48f6-fb27-f0e1fc292fe8"
      },
      "execution_count": 10,
      "outputs": [
        {
          "output_type": "stream",
          "name": "stdout",
          "text": [
            "Qual a cotação atual do dólar: 4.83\n",
            "Quantos dólares você tem: 2\n",
            "O valor da conversão foi 9.66\n"
          ]
        }
      ]
    },
    {
      "cell_type": "markdown",
      "source": [
        "O restaurante a quilo Bem-Bão cobra R$25,00 por cada quilo de refeição. Faça um\n",
        "programa que leia o peso do prato montado pelo cliente (em quilos) e exiba o valor\n",
        "a pagar. Assuma que a balança já desconte o peso do prato."
      ],
      "metadata": {
        "id": "1c2d7sc0yL7G"
      }
    },
    {
      "cell_type": "code",
      "source": [
        "pesoKG = float(input('Qual o peso de seu prato: '))\n",
        "\n",
        "valor = pesoKG * 25\n",
        "\n",
        "print(f'Você precisa pagar R${valor:.2f}')"
      ],
      "metadata": {
        "id": "TlgZ833wyNGe",
        "outputId": "676740f5-8045-4994-9c3c-471cd5308136",
        "colab": {
          "base_uri": "https://localhost:8080/"
        }
      },
      "execution_count": 15,
      "outputs": [
        {
          "output_type": "stream",
          "name": "stdout",
          "text": [
            "Qual o peso de seu prato: 1.74\n",
            "Você precisa pagar R$43.50\n"
          ]
        }
      ]
    },
    {
      "cell_type": "markdown",
      "source": [
        "Faça um programa que leia o nome de um aluno e as notas das três provas que ele\n",
        "obteve no semestre. No final informar o nome do aluno e a sua média (aritmética)."
      ],
      "metadata": {
        "id": "R-xXk07yy6im"
      }
    },
    {
      "cell_type": "code",
      "source": [
        "nome = input('Informe seu nome: ')\n",
        "\n",
        "x = 0\n",
        "notas = []\n",
        "\n",
        "while x < 3:\n",
        "  notas.append(int(input('Qual sua nota: ')))\n",
        "\n",
        "  x += 1\n",
        "\n",
        "\n",
        "media = sum(notas) / 3\n",
        "\n",
        "print(f'A média do aluno {nome} foi {media:.1f}')"
      ],
      "metadata": {
        "id": "0xkSZfW4y7uE",
        "outputId": "0e9d6511-3114-421e-9442-c2383651e561",
        "colab": {
          "base_uri": "https://localhost:8080/"
        }
      },
      "execution_count": 20,
      "outputs": [
        {
          "output_type": "stream",
          "name": "stdout",
          "text": [
            "Informe seu nome: Arthur\n",
            "Qual sua nota: 82\n",
            "Qual sua nota: 71\n",
            "Qual sua nota: 79\n",
            "A média do aluno Arthur foi 77.3\n"
          ]
        }
      ]
    }
  ]
}