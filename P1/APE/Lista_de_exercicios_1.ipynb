{
  "cells": [
    {
      "cell_type": "markdown",
      "metadata": {
        "id": "WaymXTmZtJHU"
      },
      "source": [
        "Faça um programa que exiba na tela do computador a mensagem “Bem-vindo ao\n",
        "mundo da programação!"
      ]
    },
    {
      "cell_type": "code",
      "execution_count": null,
      "metadata": {
        "id": "_ppXn549tKu6"
      },
      "outputs": [],
      "source": [
        "print(\"Bem-vindo ao mundo da programação!\")"
      ]
    },
    {
      "cell_type": "markdown",
      "metadata": {
        "id": "Wl_MaQP8tUVs"
      },
      "source": [
        "Escreva um programa que leia um número inteiro e exiba o dobro dele."
      ]
    },
    {
      "cell_type": "code",
      "execution_count": null,
      "metadata": {
        "id": "3fK52kBUtW7i"
      },
      "outputs": [],
      "source": [
        "num = int(input('Diga um número inteiro: '))\n",
        "dobro = num * 2\n",
        "\n",
        "print(f'O dobro de {num} é {dobro}')"
      ]
    },
    {
      "cell_type": "markdown",
      "metadata": {
        "id": "j-1j5Y3Pt9Hz"
      },
      "source": [
        "Faça um programa que leia dois números reais, calcule e exiba a soma deles."
      ]
    },
    {
      "cell_type": "code",
      "execution_count": null,
      "metadata": {
        "id": "ZjqkVmfht-Wp"
      },
      "outputs": [],
      "source": [
        "num1 = float(input('Diga um número real: '))\n",
        "num2 = float(input('Diga outro valor real: '))\n",
        "\n",
        "soma = num1 + num2\n",
        "\n",
        "print(f'A soma desses valores é {soma}')"
      ]
    },
    {
      "cell_type": "markdown",
      "metadata": {
        "id": "xHSPFIK4uPiy"
      },
      "source": [
        "Escreva um programa para calcular a área de um triângulo, dados os valores de\n",
        "base e altura."
      ]
    },
    {
      "cell_type": "code",
      "execution_count": null,
      "metadata": {
        "id": "1qqd7cBPuQy6"
      },
      "outputs": [],
      "source": [
        "base = float(input('Diga o valor da base: '))\n",
        "altura = float(input('Diga o valor da altura: '))\n",
        "\n",
        "area = (base * altura) / 2\n",
        "\n",
        "print(f'A área do triângulo é {area}')"
      ]
    },
    {
      "cell_type": "markdown",
      "metadata": {
        "id": "7shgajnEumqL"
      },
      "source": [
        "Escreva um programa para ler o nome e o sobrenome de uma pessoa e escrevê-\n",
        "los na seguinte forma: sobrenome seguido por uma vírgula e pelo nomez"
      ]
    },
    {
      "cell_type": "code",
      "execution_count": null,
      "metadata": {
        "colab": {
          "base_uri": "https://localhost:8080/"
        },
        "id": "fKgi4Bdruzv5",
        "outputId": "4bef406b-e997-4683-adbe-c59a8bf5069a"
      },
      "outputs": [],
      "source": [
        "nome, sobrenome = input('Informe seu nome: ').split(\",\")\n",
        "\n",
        "novoNome = nome.strip('\"')\n",
        "novoSobrenome = sobrenome.strip('\"')\n",
        "\n",
        "print(f'{novoSobrenome}, {novoNome}')"
      ]
    },
    {
      "cell_type": "markdown",
      "metadata": {
        "id": "aa8uRbmXw5cQ"
      },
      "source": [
        "Faça um programa que efetue a apresentação do valor da conversão em real\n",
        "de um valor lido em dólar (US$). O algoritmo deverá solicitar o valor da cotação do\n",
        "dólar e também a quantidade de dólares disponíveis com o usuário."
      ]
    },
    {
      "cell_type": "code",
      "execution_count": null,
      "metadata": {
        "colab": {
          "base_uri": "https://localhost:8080/"
        },
        "id": "4mPDLxQ3w7Pv",
        "outputId": "1ad7d61f-4ab5-48f6-fb27-f0e1fc292fe8"
      },
      "outputs": [],
      "source": [
        "cotacao = float(input('Qual a cotação atual do dólar: '))\n",
        "dolares = float(input('Quantos dólares você tem: '))\n",
        "\n",
        "valorReal = cotacao * dolares\n",
        "\n",
        "print(f'Em reais, você tem R${valorReal}')"
      ]
    },
    {
      "cell_type": "markdown",
      "metadata": {
        "id": "1c2d7sc0yL7G"
      },
      "source": [
        "O restaurante a quilo Bem-Bão cobra R$25,00 por cada quilo de refeição. Faça um\n",
        "programa que leia o peso do prato montado pelo cliente (em quilos) e exiba o valor\n",
        "a pagar. Assuma que a balança já desconte o peso do prato."
      ]
    },
    {
      "cell_type": "code",
      "execution_count": null,
      "metadata": {
        "colab": {
          "base_uri": "https://localhost:8080/"
        },
        "id": "TlgZ833wyNGe",
        "outputId": "676740f5-8045-4994-9c3c-471cd5308136"
      },
      "outputs": [],
      "source": [
        "pesoKG = float(input('Qual o peso de seu prato: '))\n",
        "\n",
        "valor = pesoKG * 25\n",
        "\n",
        "print(f'Você precisa pagar R${valor:.2f}')"
      ]
    },
    {
      "cell_type": "markdown",
      "metadata": {
        "id": "R-xXk07yy6im"
      },
      "source": [
        "Faça um programa que leia o nome de um aluno e as notas das três provas que ele\n",
        "obteve no semestre. No final informar o nome do aluno e a sua média (aritmética)."
      ]
    },
    {
      "cell_type": "code",
      "execution_count": null,
      "metadata": {
        "colab": {
          "base_uri": "https://localhost:8080/"
        },
        "id": "0xkSZfW4y7uE",
        "outputId": "0e9d6511-3114-421e-9442-c2383651e561"
      },
      "outputs": [],
      "source": [
        "nome = input('Informe seu nome: ')\n",
        "\n",
        "x = 0\n",
        "notas = []\n",
        "\n",
        "while x < 3:\n",
        "  notas.append(int(input('Qual sua nota: ')))\n",
        "\n",
        "  x += 1\n",
        "\n",
        "\n",
        "media = sum(notas) / 3\n",
        "\n",
        "print(f'A média do aluno {nome} foi {media:.1f}')"
      ]
    }
  ],
  "metadata": {
    "colab": {
      "authorship_tag": "ABX9TyNX+qRagJYFzsimamSZfYt4",
      "name": "Lista de exercicios 1.ipynb",
      "provenance": []
    },
    "kernelspec": {
      "display_name": "Python 3",
      "name": "python3"
    },
    "language_info": {
      "name": "python",
      "version": "3.9.5"
    }
  },
  "nbformat": 4,
  "nbformat_minor": 0
}
