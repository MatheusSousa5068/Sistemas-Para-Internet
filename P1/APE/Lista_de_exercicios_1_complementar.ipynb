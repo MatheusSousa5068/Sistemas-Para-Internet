{
  "nbformat": 4,
  "nbformat_minor": 0,
  "metadata": {
    "colab": {
      "name": "Lista_de_exercicios_1_complementar.ipynb",
      "provenance": [],
      "authorship_tag": "ABX9TyPQqJfsF7wlTpyyNIgPpmtV"
    },
    "kernelspec": {
      "name": "python3",
      "display_name": "Python 3"
    },
    "language_info": {
      "name": "python"
    }
  },
  "cells": [
    {
      "cell_type": "markdown",
      "source": [
        "A Companhia de Carros Usados João Honesto paga seus empregados um salário de 1000,00 reais por mês mais uma comissão de R$ 200,00 por cada carro vendido mais 5% do\n",
        "valor da venda.\n",
        "Escreva um programa que leia o nome, o número de carros vendidos e o valor total das\n",
        "vendas de um vendedor, e calcule e exiba o seu salário.\n"
      ],
      "metadata": {
        "id": "Q23dds6Otq_8"
      }
    },
    {
      "cell_type": "code",
      "source": [
        "nome = input('Qual o seu nome: ')\n",
        "nCarros = int(input('Quantos carros você vendeu esse mês: '))\n",
        "valorVendas = float(input('Insira o valor de suas vendas este mês: '))\n",
        "\n",
        "salarioBase = 1000\n",
        "\n",
        "salario = salarioBase + (5/100 * valorVendas) + (nCarros * 200)\n",
        "\n",
        "print(f'Olá {nome}, seu salário esse mês foi R${salario}')"
      ],
      "metadata": {
        "colab": {
          "base_uri": "https://localhost:8080/"
        },
        "id": "nVDBawMvtuhD",
        "outputId": "9e5dc48b-0834-4b9f-c5ec-69ab71ee83c7"
      },
      "execution_count": null,
      "outputs": [
        {
          "output_type": "stream",
          "name": "stdout",
          "text": [
            "Qual o seu nome: arthur\n",
            "Quantos carros você vendeu esse mês: 2\n",
            "Insira o valor de suas vendas este mês: 200\n",
            "Olá arthur, seu salário esse mês foi R$1410.0\n"
          ]
        }
      ]
    },
    {
      "cell_type": "markdown",
      "source": [
        "Escreva um programa para calcular e exibir a média ponderada de 2 notas dadas. Sabe-\n",
        "se que nota1 possui peso 6 e nota2 possui peso 4."
      ],
      "metadata": {
        "id": "nL6g_4lXuvhS"
      }
    },
    {
      "cell_type": "code",
      "source": [
        "nota1 = float(input(\"Qual sua primeira nota: \"))\n",
        "nota2 = float(input(\"Qual sua segunda nota: \"))\n",
        "\n",
        "media = (nota1*6 + nota2*4) / (10)\n",
        " \n",
        "print(f'Sua média foi {media}')"
      ],
      "metadata": {
        "colab": {
          "base_uri": "https://localhost:8080/"
        },
        "id": "PxYHQoImuw1K",
        "outputId": "dd38d1ee-7e54-4d62-db84-3c293b338f33"
      },
      "execution_count": null,
      "outputs": [
        {
          "output_type": "stream",
          "name": "stdout",
          "text": [
            "Qual sua primeira nota: 7.2\n",
            "Qual sua segunda nota: 8.1\n",
            "Média:  7.56\n"
          ]
        }
      ]
    },
    {
      "cell_type": "markdown",
      "source": [
        "Escreva um programa que leia duas variáveis inteiras e troque o conteúdo entre elas,\n",
        "mostrando o resultado."
      ],
      "metadata": {
        "id": "4fuh1ymIvR5B"
      }
    },
    {
      "cell_type": "code",
      "source": [
        "x = input('Diga o primeiro valor: ')\n",
        "y = input('Diga o segundo valor: ')\n",
        "\n",
        "x, y = y, x\n",
        "print(f'agora, o primeiro valor é {x} e o segundo é {y}')"
      ],
      "metadata": {
        "id": "AkQe_bGmvQYa",
        "colab": {
          "base_uri": "https://localhost:8080/"
        },
        "outputId": "94849a26-834c-4079-a859-806301341524"
      },
      "execution_count": null,
      "outputs": [
        {
          "output_type": "stream",
          "name": "stdout",
          "text": [
            "Diga o primeiro valor: 12\n",
            "Diga o segundo valor: 21\n",
            "agora, o primeiro valor é 21 e o segundo é 12\n"
          ]
        }
      ]
    },
    {
      "cell_type": "markdown",
      "source": [
        "Um motorista anota a marcação do hodômetro do seu veículo antes e após uma viagem,\n",
        "bem como o número de litros de combustível gastos.\n",
        "Escreva um programa que leia os 3 dados acima, o preço do litro de combustível, a\n",
        "capacidade do tanque e mostre:\n",
        "a) Quilometragem rodada.\n",
        "b) Quantos quilômetros por litro faz o veículo.\n",
        "c) Autonomia do veículo.\n",
        "d) Custo da viagem."
      ],
      "metadata": {
        "id": "Jzfqor7JwWG5"
      }
    },
    {
      "cell_type": "code",
      "source": [
        "hodometroAntes = float(input('Insira a a marcação do hodômetro antes da viagem: '))\n",
        "hodometroDepois = float(input('Insira a a marcação do hodômetro dpois da viagem: '))\n",
        "gasto = float(input('Quantos litros de combustível foram gastos: '))\n",
        "\n",
        "\n",
        "precoLitro = float(input('Qual o valor do combustível em reais: '))\n",
        "capacidade = float(input('Qual a capacidade do tanque: '))\n",
        "\n",
        "kmRodados = hodometroDepois - hodometroAntes\n",
        "kmPorLitro = kmRodados / gasto\n",
        "autonomia = capacidade * kmPorLitro\n",
        "\n",
        "gasto = kmRodados * precoLitro / kmPorLitro\n",
        "\n",
        "print(f'Você rodou {kmRodados} km')\n",
        "print(f'O seu carro faz {kmPorLitro:.2f}km por litro')\n",
        "print(f'A autonomia do seu carro é {autonomia:.2f}')\n",
        "print(f'Você gastou, ao todo R${gasto}')"
      ],
      "metadata": {
        "colab": {
          "base_uri": "https://localhost:8080/"
        },
        "id": "rzMLyjAowW-5",
        "outputId": "dc5c2bb3-fcd0-4da9-9e26-2c0d0d64e4b4"
      },
      "execution_count": 23,
      "outputs": [
        {
          "output_type": "stream",
          "name": "stdout",
          "text": [
            "Insira a a marcação do hodômetro antes da viagem: 200\n",
            "Insira a a marcação do hodômetro dpois da viagem: 400\n",
            "Quantos litros de combustível foram gastos: 15\n",
            "Qual o valor do combustível em reais: 7\n",
            "Qual a capacidade do tanque: 50\n",
            "Você rodou 200.0 km\n",
            "O seu carro faz 13.33km por litro\n",
            "A autonomia do seu carro é 666.67\n",
            "Você gastou, ao todo R$105.0\n"
          ]
        }
      ]
    },
    {
      "cell_type": "markdown",
      "source": [
        "Escreva um programa que, dado um número inteiro representando uma quantidade de\n",
        "segundos, calcule quantas horas, minutos e segundos estão contidos nesta quantidade.\n",
        "Ex: 7.388 segundos = 2 horas, 3 minutos e 8 segundos.\n"
      ],
      "metadata": {
        "id": "JhDlcOCm2All"
      }
    },
    {
      "cell_type": "code",
      "source": [
        "segundos = float(input('Informe os segundos: '))\n",
        "\n",
        "segundos = segundos % 86400\n",
        "horas = segundos // 3600\n",
        "segundos %= 3600\n",
        "minutos = segundos // 60\n",
        "segundos %= 60\n",
        "\n",
        "print(f'{horas:.0f} horas {minutos:.0f} minutos e {segundos:.0f} segundos')"
      ],
      "metadata": {
        "colab": {
          "base_uri": "https://localhost:8080/"
        },
        "id": "37Enr3tt2Bz9",
        "outputId": "4a5a7ca3-f9ce-49d8-d97a-503323732384"
      },
      "execution_count": 13,
      "outputs": [
        {
          "output_type": "stream",
          "name": "stdout",
          "text": [
            "Diga os segundos: 7388\n",
            "2 horas 3 minutos e 8 segundos\n"
          ]
        }
      ]
    },
    {
      "cell_type": "markdown",
      "source": [
        "As Ilhas Weblands formam um reino independente nos mares do Pacífico. Como é um\n",
        "reino recente, a sociedade é muito influenciada pela informática. A moeda oficial é o Bit;\n",
        "existem notas de 50 bits, 10 bits, 5 bits e 1 bits. Você foi contratado(a) para ajudar na\n",
        "programação dos caixas automáticos de um grande banco das Ilhas Weblands.\n",
        "Os caixas eletrônicos das Ilhas Weblands operam com todos os tipos de notas\n",
        "disponíveis, mantendo um estoque para cada valor de cédula. Os clientes do banco\n",
        "utilizam os caixas eletrônicos para efetuar retiradas de um certo núme\n",
        "ro inteiro de Bits.\n",
        "Sua tarefa é escrever um programa que, dado o valor de Bits desejado pelo cliente,\n",
        "determine o número de cada uma das notas necessário para totalizar esse valor, de\n",
        "modo a minimizar a quantidade de cédulas entregues.\n",
        "Exemplo:\n",
        "Para 72 bits seriam as seguintes notas:\n",
        "- 1 nota de 50 bits\n",
        "- 2 notas de 10 bits\n",
        "- 0 notas de 5 bits\n",
        "- 2 notas de 1 bits\n"
      ],
      "metadata": {
        "id": "m23fNlMp3pa6"
      }
    },
    {
      "cell_type": "code",
      "source": [
        "valor = int(input('Informe o valor para a entrega das cédulas: '))\n",
        "\n",
        "cem = valor // 100\n",
        "valor %= 100\n",
        "    \n",
        "cinquenta = valor // 50\n",
        "valor %= 50\n",
        "\n",
        "dez = valor // 10\n",
        "valor %= 10\n",
        "\n",
        "cinco = valor // 5\n",
        "valor %= 5\n",
        "\n",
        "um = valor\n",
        "\n",
        "print('Notas R$100,00 = ',cem)\n",
        "print('Notas R$ 50,00 = ',cinquenta)\n",
        "print('Notas R$ 10,00 = ',dez)\n",
        "print('Notas R$  5,00 = ',cinco)\n",
        "print('Notas R$  1,00 = ',um)"
      ],
      "metadata": {
        "colab": {
          "base_uri": "https://localhost:8080/"
        },
        "id": "XMX1-e8630_p",
        "outputId": "8ed92600-5347-41a9-e7e1-951cf1704af0"
      },
      "execution_count": 16,
      "outputs": [
        {
          "output_type": "stream",
          "name": "stdout",
          "text": [
            "Informe o valor para a entrega das cédulas: 123\n",
            "Notas R$100,00 =  1\n",
            "Notas R$ 50,00 =  0\n",
            "Notas R$ 10,00 =  2\n",
            "Notas R$  5,00 =  0\n",
            "Notas R$  1,00 =  3\n"
          ]
        }
      ]
    }
  ]
}